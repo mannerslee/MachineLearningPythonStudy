{
 "cells": [
  {
   "cell_type": "markdown",
   "metadata": {},
   "source": [
    "# 第二章 线性回归"
   ]
  },
  {
   "cell_type": "code",
   "execution_count": 18,
   "metadata": {},
   "outputs": [],
   "source": [
    "import torch\n",
    "import numpy as np\n",
    "import matplotlib.pyplot as plt\n",
    "from IPython.display import clear_output\n",
    "#%matplotlib notebook"
   ]
  },
  {
   "cell_type": "markdown",
   "metadata": {},
   "source": [
    "## 2.1使用原始分支循环"
   ]
  },
  {
   "cell_type": "markdown",
   "metadata": {},
   "source": [
    "### 定义loss函数， 向前传播"
   ]
  },
  {
   "cell_type": "code",
   "execution_count": 19,
   "metadata": {},
   "outputs": [],
   "source": [
    "def computer_error_for_line_given_points(w, b, points):\n",
    "    totalError = 0\n",
    "    for i in range(0, len(points)):\n",
    "        x = points[i,0]\n",
    "        y = points[i,1]\n",
    "        totalError += (y - (w*x+b))**2\n",
    "    return totalError/float(len(points))"
   ]
  },
  {
   "cell_type": "markdown",
   "metadata": {},
   "source": [
    "### 向后传播"
   ]
  },
  {
   "cell_type": "code",
   "execution_count": 20,
   "metadata": {},
   "outputs": [],
   "source": [
    "def backward(w, b, points):\n",
    "    dw = 0\n",
    "    db = 0\n",
    "    N = len(points)\n",
    "    for i in range(0, len(points)):\n",
    "        x = points[i,0]\n",
    "        y = points[i,1]\n",
    "        dw += -(1/N)*2*(y - (w*x+b))*x\n",
    "        db += -(1/N)*2*(y - (w*x+b))\n",
    "    return dw,db"
   ]
  },
  {
   "cell_type": "markdown",
   "metadata": {},
   "source": [
    "### 优化算法： 梯度下降法"
   ]
  },
  {
   "cell_type": "code",
   "execution_count": 21,
   "metadata": {},
   "outputs": [],
   "source": [
    "def optimizer(dw, db, w, b, lr): \n",
    "    return w - lr*dw, b - lr*db"
   ]
  },
  {
   "cell_type": "markdown",
   "metadata": {},
   "source": [
    "### 数据准备 "
   ]
  },
  {
   "cell_type": "code",
   "execution_count": 22,
   "metadata": {},
   "outputs": [],
   "source": [
    "x = np.arange(10)\n",
    "t_w = 7\n",
    "t_b = 3\n",
    "\n",
    "y = t_w*x + t_b + np.random.rand(len(x))\n",
    "points = np.array(list(zip(x,y)))"
   ]
  },
  {
   "cell_type": "markdown",
   "metadata": {},
   "source": [
    "### 训练过程 "
   ]
  },
  {
   "cell_type": "code",
   "execution_count": 23,
   "metadata": {},
   "outputs": [
    {
     "name": "stdout",
     "output_type": "stream",
     "text": [
      "      loss: 1642.641764374001\n",
      "      loss: 0.6078387494005787\n",
      "      loss: 0.24716056016057547\n",
      "      loss: 0.1305863445611109\n",
      "      loss: 0.0929085804266505\n",
      "      loss: 0.08073081107282609\n",
      "      loss: 0.07679485388849182\n",
      "      loss: 0.0755227195175064\n",
      "      loss: 0.07511155502001456\n",
      "weight =  7.022407700759412 3.5517501996061975\n"
     ]
    }
   ],
   "source": [
    "learn_step = 900000\n",
    "w = 0\n",
    "b = 0\n",
    "lr = 0.00001\n",
    "lss_ls = []\n",
    "for i in range(learn_step):\n",
    "    loss = computer_error_for_line_given_points(w, b, points)\n",
    "    lss_ls.append(loss)\n",
    "    dw, db = backward(w, b, points)\n",
    "    w, b = optimizer(dw, db, w, b, lr)\n",
    "    if i%100000 == 0:\n",
    "        print(\"      loss:\",loss)\n",
    "\n",
    "print(\"weight = \", w, b)\n",
    "\n"
   ]
  },
  {
   "cell_type": "markdown",
   "metadata": {},
   "source": [
    "###   作图"
   ]
  },
  {
   "cell_type": "code",
   "execution_count": 25,
   "metadata": {},
   "outputs": [
    {
     "data": {
      "text/plain": [
       "[<matplotlib.lines.Line2D at 0x114ad06d8>]"
      ]
     },
     "execution_count": 25,
     "metadata": {},
     "output_type": "execute_result"
    },
    {
     "data": {
      "image/png": "[encoded data removed]",
      "text/plain": [
       "<Figure size 432x288 with 2 Axes>"
      ]
     },
     "metadata": {},
     "output_type": "display_data"
    }
   ],
   "source": [
    "plt.subplot(2,2,1)\n",
    "plt.plot(lss_ls, '-r')\n",
    "plt.subplot(2,2,2)\n",
    "plt.scatter(points[:,0],points[:,1])\n",
    "x = np.arange(len(points))\n",
    "y = w*x +b\n",
    "plt.plot(x,y, '-r')"
   ]
  },
  {
   "cell_type": "markdown",
   "metadata": {},
   "source": [
    "##  2.2 利用numpy 向量化操作"
   ]
  },
  {
   "cell_type": "markdown",
   "metadata": {},
   "source": [
    "### 向前传播 计算Loss"
   ]
  },
  {
   "cell_type": "code",
   "execution_count": 26,
   "metadata": {},
   "outputs": [],
   "source": [
    "def computer_error_for_line_given_points(w, b, points):\n",
    "    X, Y = points \n",
    "    return np.mean(   np.square(Y - (np.dot(w.T, X) + b) )   )"
   ]
  },
  {
   "cell_type": "markdown",
   "metadata": {},
   "source": [
    "### 向后传播 计算梯度"
   ]
  },
  {
   "cell_type": "code",
   "execution_count": 27,
   "metadata": {},
   "outputs": [],
   "source": [
    "def backward(w, b, points):\n",
    "    X,Y = points\n",
    "    dw = -np.mean((y -(np.dot(w.T, X)-b))*X.T)\n",
    "    db = -np.mean(y -(np.dot(w.T, X)-b))\n",
    "    return dw,db"
   ]
  },
  {
   "cell_type": "code",
   "execution_count": 28,
   "metadata": {},
   "outputs": [],
   "source": [
    "def optimizer(dw, db, w, b, lr): \n",
    "    return w - lr*dw, b - lr*db"
   ]
  },
  {
   "cell_type": "code",
   "execution_count": 74,
   "metadata": {},
   "outputs": [],
   "source": [
    "x = np.arange(10)[np.newaxis,:]\n",
    "t_w = np.array([[7]])\n",
    "t_b = 3\n",
    "\n",
    "y = np.dot(t_w.T,x) + t_b + np.random.rand(10)\n",
    "points = x, y"
   ]
  },
  {
   "cell_type": "code",
   "execution_count": 101,
   "metadata": {},
   "outputs": [
    {
     "name": "stdout",
     "output_type": "stream",
     "text": [
      "      loss: 1624.8352721191466\n",
      "weight =  [4.63135133] 1.0291891843313523\n"
     ]
    }
   ],
   "source": [
    "learn_step = 20000\n",
    "w = np.array([0])\n",
    "b = 0\n",
    "lr = 0.0001\n",
    "lss_ls = []\n",
    "for i in range(learn_step):\n",
    "    loss = computer_error_for_line_given_points(w, b, points)\n",
    "    lss_ls.append(loss)\n",
    "    dw, db = backward(w, b, points)\n",
    "    w, b = optimizer(dw, db, w, b, lr)\n",
    "    if i%40000 ==0:\n",
    "        print(\"      loss:\",loss)\n",
    "print(\"weight = \", w, b)"
   ]
  },
  {
   "cell_type": "code",
   "execution_count": 102,
   "metadata": {},
   "outputs": [
    {
     "name": "stdout",
     "output_type": "stream",
     "text": [
      "(1, 10) (1, 10)\n",
      "(10,)\n",
      "(10,)\n"
     ]
    },
    {
     "data": {
      "text/plain": [
       "[<matplotlib.lines.Line2D at 0x121f53048>]"
      ]
     },
     "execution_count": 102,
     "metadata": {},
     "output_type": "execute_result"
    },
    {
     "data": {
      "image/png": "[encoded data removed]",
      "text/plain": [
       "<Figure size 432x288 with 2 Axes>"
      ]
     },
     "metadata": {},
     "output_type": "display_data"
    }
   ],
   "source": [
    "plt.subplot(2,2,1)\n",
    "plt.plot(lss_ls, '-r')\n",
    "plt.subplot(2,2,2)\n",
    "X, Y = points\n",
    "print(X.shape, Y.shape)\n",
    "plt.scatter(np.squeeze(X, axis=0), np.squeeze(Y, axis=0))\n",
    "x = np.arange(X.shape[1])\n",
    "y = np.dot(w.T, X) + b\n",
    "print(x.shape)\n",
    "print(y.shape)\n",
    "plt.plot(x, y, '-r')"
   ]
  },
  {
   "cell_type": "markdown",
   "metadata": {},
   "source": [
    "Todo:  看Andrew的笔记， 整理矩阵的形式。  上面的是单变量回归模型。   只要矩阵形式，才能使用Tensor计算公式。 pytorch才有用"
   ]
  },
  {
   "cell_type": "code",
   "execution_count": 14,
   "metadata": {},
   "outputs": [
    {
     "data": {
      "text/plain": [
       "[<matplotlib.lines.Line2D at 0x114a39be0>]"
      ]
     },
     "execution_count": 14,
     "metadata": {},
     "output_type": "execute_result"
    },
    {
     "data": {
      "image/png": "[encoded data removed]",
      "text/plain": [
       "<Figure size 432x288 with 1 Axes>"
      ]
     },
     "metadata": {},
     "output_type": "display_data"
    }
   ],
   "source": [
    "plt.plot(np.random.rand(10))\n"
   ]
  },
  {
   "cell_type": "code",
   "execution_count": 15,
   "metadata": {},
   "outputs": [
    {
     "data": {
      "text/plain": [
       "[<matplotlib.lines.Line2D at 0x114ac18d0>]"
      ]
     },
     "execution_count": 15,
     "metadata": {},
     "output_type": "execute_result"
    },
    {
     "data": {
      "image/png": "[encoded data removed]",
      "text/plain": [
       "<Figure size 432x288 with 1 Axes>"
      ]
     },
     "metadata": {},
     "output_type": "display_data"
    }
   ],
   "source": [
    "plt.plot(np.random.rand(10))\n",
    "clear_output(True)\n",
    "plt.plot(np.random.rand(10))"
   ]
  },
  {
   "cell_type": "markdown",
   "metadata": {},
   "source": [
    "## 2.3 使用 pytorch的自动求导机制"
   ]
  },
  {
   "cell_type": "code",
   "execution_count": 175,
   "metadata": {},
   "outputs": [],
   "source": [
    "import torch\n",
    "import numpy as np\n",
    "import matplotlib.pyplot as plt\n",
    "from IPython.display import clear_output\n",
    "\n",
    "from torch import autograd\n",
    "#%matplotlib notebook"
   ]
  },
  {
   "cell_type": "markdown",
   "metadata": {},
   "source": [
    "### 向前传播（np -> torch）"
   ]
  },
  {
   "cell_type": "code",
   "execution_count": 176,
   "metadata": {},
   "outputs": [],
   "source": [
    "def computer_error_for_line_given_points(w, b, points):\n",
    "    X, Y = points \n",
    "    return torch.mean( (Y - (w@X + b))**2 )"
   ]
  },
  {
   "cell_type": "markdown",
   "metadata": {},
   "source": [
    "## 向后传播"
   ]
  },
  {
   "cell_type": "code",
   "execution_count": 177,
   "metadata": {},
   "outputs": [],
   "source": [
    "def backward(w, b, points):\n",
    "    loss = computer_error_for_line_given_points(w, b, points)\n",
    "    return autograd.grad(loss, [w,b])"
   ]
  },
  {
   "cell_type": "markdown",
   "metadata": {},
   "source": [
    "### 优化器(没有改)"
   ]
  },
  {
   "cell_type": "code",
   "execution_count": 178,
   "metadata": {},
   "outputs": [],
   "source": [
    "def optimizer(dw, db, w, b, lr): \n",
    "    return w - lr*dw, b - lr*db"
   ]
  },
  {
   "cell_type": "markdown",
   "metadata": {},
   "source": [
    "### 造数据（数据改为tensor格式）"
   ]
  },
  {
   "cell_type": "code",
   "execution_count": 179,
   "metadata": {},
   "outputs": [],
   "source": [
    "x = np.arange(10)[np.newaxis,:]\n",
    "t_w = np.array([[7]])\n",
    "t_b = 3\n",
    "\n",
    "y = np.dot(t_w.T,x) + t_b + np.random.rand(10)\n",
    "x =  torch.tensor(x).float()\n",
    "y =  torch.tensor(y).float()\n",
    "points = x, y"
   ]
  },
  {
   "cell_type": "markdown",
   "metadata": {},
   "source": [
    "### 学习主过程（）"
   ]
  },
  {
   "cell_type": "code",
   "execution_count": 180,
   "metadata": {},
   "outputs": [
    {
     "name": "stdout",
     "output_type": "stream",
     "text": [
      "      loss: tensor(1635.1716, grad_fn=<MeanBackward1>)\n",
      "      loss: tensor(1.6281, grad_fn=<MeanBackward1>)\n",
      "      loss: tensor(1.4553, grad_fn=<MeanBackward1>)\n",
      "      loss: tensor(1.3096, grad_fn=<MeanBackward1>)\n",
      "      loss: tensor(1.1795, grad_fn=<MeanBackward1>)\n",
      "      loss: tensor(1.0632, grad_fn=<MeanBackward1>)\n",
      "      loss: tensor(0.9594, grad_fn=<MeanBackward1>)\n",
      "      loss: tensor(0.8666, grad_fn=<MeanBackward1>)\n",
      "      loss: tensor(0.7838, grad_fn=<MeanBackward1>)\n",
      "      loss: tensor(0.7098, grad_fn=<MeanBackward1>)\n",
      "      loss: tensor(0.6437, grad_fn=<MeanBackward1>)\n",
      "      loss: tensor(0.5847, grad_fn=<MeanBackward1>)\n",
      "      loss: tensor(0.5320, grad_fn=<MeanBackward1>)\n",
      "      loss: tensor(0.4849, grad_fn=<MeanBackward1>)\n",
      "      loss: tensor(0.4429, grad_fn=<MeanBackward1>)\n",
      "      loss: tensor(0.4053, grad_fn=<MeanBackward1>)\n",
      "      loss: tensor(0.3718, grad_fn=<MeanBackward1>)\n",
      "      loss: tensor(0.3418, grad_fn=<MeanBackward1>)\n",
      "      loss: tensor(0.3150, grad_fn=<MeanBackward1>)\n",
      "      loss: tensor(0.2911, grad_fn=<MeanBackward1>)\n",
      "weight =  tensor([7.1212], grad_fn=<ThSubBackward>) tensor([2.8224], grad_fn=<ThSubBackward>)\n"
     ]
    }
   ],
   "source": [
    "learn_step = 2000\n",
    "w = torch.tensor([0.0], requires_grad=True)\n",
    "b = torch.tensor([0.0], requires_grad=True)\n",
    "lr = 0.001\n",
    "lss_ls = []\n",
    "for i in range(learn_step):\n",
    "    loss = computer_error_for_line_given_points(w, b, points)\n",
    "    lss_ls.append(loss)\n",
    "    dw, db = backward(w, b, points)\n",
    "    w, b = optimizer(dw, db, w, b, lr)\n",
    "    if i%100 ==0:\n",
    "        print(\"      loss:\",loss)\n",
    "print(\"weight = \", w, b)"
   ]
  },
  {
   "cell_type": "markdown",
   "metadata": {},
   "source": [
    "## 2.4使用 pytorch 的model框架"
   ]
  },
  {
   "cell_type": "markdown",
   "metadata": {},
   "source": [
    "### 使用 pyorch 提供的优化器"
   ]
  },
  {
   "cell_type": "code",
   "execution_count": 205,
   "metadata": {},
   "outputs": [],
   "source": [
    "import torch.optim as optim\n",
    "import  torch.nn as nn\n",
    "import torch.nn.functional as F"
   ]
  },
  {
   "cell_type": "code",
   "execution_count": 206,
   "metadata": {},
   "outputs": [
    {
     "name": "stdout",
     "output_type": "stream",
     "text": [
      "tensor([[0.],\n",
      "        [1.],\n",
      "        [2.],\n",
      "        [3.],\n",
      "        [4.],\n",
      "        [5.],\n",
      "        [6.],\n",
      "        [7.],\n",
      "        [8.],\n",
      "        [9.]])\n",
      "      loss: tensor(1996.1234, grad_fn=<MseLossBackward>)\n",
      "      loss: tensor(1.1341, grad_fn=<MseLossBackward>)\n",
      "      loss: tensor(0.9048, grad_fn=<MseLossBackward>)\n",
      "      loss: tensor(0.7218, grad_fn=<MseLossBackward>)\n",
      "      loss: tensor(0.5758, grad_fn=<MseLossBackward>)\n",
      "      loss: tensor(0.4593, grad_fn=<MseLossBackward>)\n",
      "      loss: tensor(0.3664, grad_fn=<MseLossBackward>)\n",
      "      loss: tensor(0.2923, grad_fn=<MseLossBackward>)\n",
      "      loss: tensor(0.2332, grad_fn=<MseLossBackward>)\n",
      "      loss: tensor(0.1860, grad_fn=<MseLossBackward>)\n",
      "Parameter containing:\n",
      "tensor([[7.1142]], requires_grad=True)\n",
      "Parameter containing:\n",
      "tensor([2.2840], requires_grad=True)\n"
     ]
    }
   ],
   "source": [
    "x = np.arange(10)[:, np.newaxis]\n",
    "t_w = np.array([[7]])\n",
    "t_b = 3\n",
    "\n",
    "y = np.dot(x,t_w.T) + t_b\n",
    "x =  torch.tensor(x).float()\n",
    "y =  torch.tensor(y).float()\n",
    "points = x, y\n",
    "\n",
    "print(x)\n",
    "##############################\n",
    "\n",
    "\n",
    "class Net(nn.Module):\n",
    "    def __init__(self):\n",
    "        super(Net, self).__init__()\n",
    "        self.fc = nn.Linear(1, 1)\n",
    "\n",
    "    def forward(self, x):\n",
    "        x = self.fc(x)\n",
    "        return x\n",
    "    \n",
    "\n",
    "net = Net()\n",
    "optimizer = optim.SGD(net.parameters(), lr=0.001)\n",
    "criterion = nn.MSELoss()\n",
    "\n",
    "learn_step = 2000\n",
    "\n",
    "for i in range(learn_step):\n",
    "    optimizer.zero_grad()   # zero the gradient buffers\n",
    "    \n",
    "    #loss = computer_error_for_line_given_points(w, b, points)\n",
    "    #loss.backward()\n",
    "    outputs = net(x)\n",
    "    loss = criterion(outputs, y)\n",
    "    loss.backward()\n",
    "    optimizer.step()    # Does the update\n",
    "    if i%200 ==0:\n",
    "        print(\"      loss:\",loss)\n",
    "\n",
    "for w in net.parameters():\n",
    "    print(w)"
   ]
  },
  {
   "cell_type": "code",
   "execution_count": null,
   "metadata": {},
   "outputs": [],
   "source": []
  }
 ],
 "metadata": {
  "kernelspec": {
   "display_name": "Python 3",
   "language": "python",
   "name": "python3"
  },
  "language_info": {
   "codemirror_mode": {
    "name": "ipython",
    "version": 3
   },
   "file_extension": ".py",
   "mimetype": "text/x-python",
   "name": "python",
   "nbconvert_exporter": "python",
   "pygments_lexer": "ipython3",
   "version": "3.6.4"
  }
 },
 "nbformat": 4,
 "nbformat_minor": 2
}
