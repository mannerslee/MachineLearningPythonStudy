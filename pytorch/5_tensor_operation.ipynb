{
 "cells": [
  {
   "cell_type": "code",
   "execution_count": 1,
   "metadata": {},
   "outputs": [],
   "source": [
    "import torch"
   ]
  },
  {
   "cell_type": "markdown",
   "metadata": {},
   "source": [
    "# 5.1 加减乘除 乘方开方 次方 log "
   ]
  },
  {
   "cell_type": "code",
   "execution_count": 12,
   "metadata": {},
   "outputs": [
    {
     "name": "stdout",
     "output_type": "stream",
     "text": [
      "-----  a+b: -----\n",
      "tensor([[ 6.,  8.],\n",
      "        [10., 12.]])\n",
      "tensor([[ 6.,  8.],\n",
      "        [10., 12.]])\n",
      "-----  a-b: -----\n",
      "tensor([[-4., -4.],\n",
      "        [-4., -4.]])\n",
      "tensor([[-4., -4.],\n",
      "        [-4., -4.]])\n",
      "-----  a*b: -----\n",
      "tensor([[ 5., 12.],\n",
      "        [21., 32.]])\n",
      "tensor([[ 5., 12.],\n",
      "        [21., 32.]])\n",
      "-----  a/b: -----\n",
      "tensor([[0.2000, 0.3333],\n",
      "        [0.4286, 0.5000]])\n",
      "tensor([[0.2000, 0.3333],\n",
      "        [0.4286, 0.5000]])\n",
      "-----  a^b: -----\n",
      "tensor([[1.0000e+00, 6.4000e+01],\n",
      "        [2.1870e+03, 6.5536e+04]])\n",
      "tensor([[1.0000e+00, 6.4000e+01],\n",
      "        [2.1870e+03, 6.5536e+04]])\n",
      "-----  long(a): -----\n",
      "tensor([[0.0000, 0.6931],\n",
      "        [1.0986, 1.3863]])\n",
      "-----  rsquare(a): -----\n",
      "tensor([[1.0000, 1.4142],\n",
      "        [1.7321, 2.0000]])\n"
     ]
    }
   ],
   "source": [
    "a = torch.FloatTensor([[1,2],[3,4]])\n",
    "b = torch.FloatTensor([[5,6],[7,8]])\n",
    "\n",
    "print(\"-----  a+b: -----\")\n",
    "print(a+b)\n",
    "print(torch.add(a,b))\n",
    "print(\"-----  a-b: -----\")\n",
    "print(a-b)\n",
    "print(torch.sub(a,b))\n",
    "print(\"-----  a*b: -----\")\n",
    "print(a*b)\n",
    "print(torch.mul(a,b))\n",
    "print(\"-----  a/b: -----\")\n",
    "print(a/b)\n",
    "print(torch.div(a,b))\n",
    "print(\"-----  a^b: -----\")\n",
    "print(a**b)\n",
    "print(torch.pow(a,b))\n",
    "print(\"-----  long(a): -----\")\n",
    "print(torch.log(a))\n",
    "print(\"-----  sqrt(a): -----\")\n",
    "print(torch.sqrt(a))\n"
   ]
  },
  {
   "cell_type": "markdown",
   "metadata": {},
   "source": [
    "# 5.2 矩阵相乘"
   ]
  },
  {
   "cell_type": "code",
   "execution_count": 16,
   "metadata": {},
   "outputs": [
    {
     "name": "stdout",
     "output_type": "stream",
     "text": [
      "-------A dot B------\n",
      "tensor([[19., 22.],\n",
      "        [43., 50.]])\n",
      "tensor([[19., 22.],\n",
      "        [43., 50.]])\n"
     ]
    }
   ],
   "source": [
    "A = torch.FloatTensor([[1,2],[3,4]])\n",
    "B = torch.FloatTensor([[5,6],[7,8]])\n",
    "print(\"-------A dot B------\")\n",
    "print(torch.mm(A,B))\n",
    "print(A@B)"
   ]
  },
  {
   "cell_type": "markdown",
   "metadata": {},
   "source": [
    "# 5.3 取整，约等于，上下限制"
   ]
  },
  {
   "cell_type": "code",
   "execution_count": null,
   "metadata": {},
   "outputs": [],
   "source": []
  },
  {
   "cell_type": "markdown",
   "metadata": {},
   "source": [
    "# 5.4 统计函数"
   ]
  },
  {
   "cell_type": "code",
   "execution_count": null,
   "metadata": {},
   "outputs": [],
   "source": []
  }
 ],
 "metadata": {
  "kernelspec": {
   "display_name": "Python 3",
   "language": "python",
   "name": "python3"
  },
  "language_info": {
   "codemirror_mode": {
    "name": "ipython",
    "version": 3
   },
   "file_extension": ".py",
   "mimetype": "text/x-python",
   "name": "python",
   "nbconvert_exporter": "python",
   "pygments_lexer": "ipython3",
   "version": "3.5.6"
  }
 },
 "nbformat": 4,
 "nbformat_minor": 2
}
