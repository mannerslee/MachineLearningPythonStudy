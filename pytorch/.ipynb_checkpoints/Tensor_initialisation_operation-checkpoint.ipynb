{
 "cells": [
  {
   "cell_type": "markdown",
   "metadata": {},
   "source": [
    "# 第x章 Tensor的初始化方法和运算"
   ]
  },
  {
   "cell_type": "markdown",
   "metadata": {},
   "source": [
    "本章说明：  本章介绍几种tensor的初始化方法， tensor到torch的转换形式以及 tensor的运算"
   ]
  },
  {
   "cell_type": "code",
   "execution_count": 42,
   "metadata": {},
   "outputs": [],
   "source": [
    "import torch\n",
    "import numpy as np"
   ]
  },
  {
   "cell_type": "markdown",
   "metadata": {},
   "source": [
    "# 1.tensor赋值初始化"
   ]
  },
  {
   "cell_type": "code",
   "execution_count": 37,
   "metadata": {},
   "outputs": [],
   "source": [
    "data = np.array([1,2,3], dtype='int32')\n",
    "\n",
    "# 按默认类型\n",
    "t1 = torch.Tensor(data)\n",
    "\n",
    "# 按参数 推断类型\n",
    "t2 = torch.tensor(data)\n",
    "\n",
    "# numpy 共享桥\n",
    "t3 = torch.from_numpy(data)\n",
    "\n",
    "# 初始化为 Int\n",
    "t5 = torch.IntTensor(data)\n"
   ]
  },
  {
   "cell_type": "code",
   "execution_count": 38,
   "metadata": {},
   "outputs": [
    {
     "name": "stdout",
     "output_type": "stream",
     "text": [
      "t1:   <class 'torch.Tensor'> tensor([1., 2., 3.]) torch.DoubleTensor\n",
      "t2:   <class 'torch.Tensor'> tensor([1, 2, 3], dtype=torch.int32) torch.IntTensor\n",
      "t3:   <class 'torch.Tensor'> tensor([1, 2, 3], dtype=torch.int32) torch.IntTensor\n",
      "t4:   <class 'torch.Tensor'> tensor([1., 2., 3.], dtype=torch.float32) torch.FloatTensor\n",
      "t5:   <class 'torch.Tensor'> tensor([1, 2, 3], dtype=torch.int32) torch.IntTensor\n"
     ]
    }
   ],
   "source": [
    "print(\"t1:  \",type(t1) , t1, t1.type())\n",
    "print(\"t2:  \",type(t2) , t2, t2.type())\n",
    "print(\"t3:  \",type(t3) , t3, t3.type())\n",
    "print(\"t4:  \",type(t4) , t4, t4.type())\n",
    "print(\"t5:  \",type(t5) , t5, t5.type())"
   ]
  },
  {
   "cell_type": "markdown",
   "metadata": {},
   "source": [
    "由t1可见， 当前torch默认的tensor类型是FLoat"
   ]
  },
  {
   "cell_type": "code",
   "execution_count": 39,
   "metadata": {},
   "outputs": [],
   "source": [
    "#更改 默认tensor类型\n",
    "torch.set_default_tensor_type(torch.DoubleTensor)"
   ]
  },
  {
   "cell_type": "code",
   "execution_count": 40,
   "metadata": {},
   "outputs": [
    {
     "name": "stdout",
     "output_type": "stream",
     "text": [
      "t1:   <class 'torch.Tensor'> tensor([1., 2., 3.]) torch.DoubleTensor\n",
      "t2:   <class 'torch.Tensor'> tensor([1, 2, 3], dtype=torch.int32) torch.IntTensor\n",
      "t3:   <class 'torch.Tensor'> tensor([1, 2, 3], dtype=torch.int32) torch.IntTensor\n",
      "t4:   <class 'torch.Tensor'> tensor([1., 2., 3.], dtype=torch.float32) torch.FloatTensor\n",
      "t5:   <class 'torch.Tensor'> tensor([1, 2, 3], dtype=torch.int32) torch.IntTensor\n"
     ]
    }
   ],
   "source": [
    "print(\"t1:  \",type(t1) , t1, t1.type())\n",
    "print(\"t2:  \",type(t2) , t2, t2.type())\n",
    "print(\"t3:  \",type(t3) , t3, t3.type())\n",
    "print(\"t4:  \",type(t4) , t4, t4.type())\n",
    "print(\"t5:  \",type(t5) , t5, t5.type())"
   ]
  },
  {
   "cell_type": "markdown",
   "metadata": {},
   "source": [
    "# 2. 随机初始化"
   ]
  },
  {
   "cell_type": "markdown",
   "metadata": {},
   "source": [
    "rand函数， 使用均匀分布初始化 tensor"
   ]
  },
  {
   "cell_type": "code",
   "execution_count": 47,
   "metadata": {},
   "outputs": [
    {
     "data": {
      "text/plain": [
       "tensor([[0.1146, 0.1970, 0.2437],\n",
       "        [0.3772, 0.2725, 0.7879]])"
      ]
     },
     "execution_count": 47,
     "metadata": {},
     "output_type": "execute_result"
    }
   ],
   "source": [
    "torch.rand(2,3)"
   ]
  },
  {
   "cell_type": "markdown",
   "metadata": {},
   "source": [
    "rand_like（x） 接受一个tensor x作为参数。 读x的shape喂给rand生成相应shape的[0，1]均值分布"
   ]
  },
  {
   "cell_type": "code",
   "execution_count": 50,
   "metadata": {},
   "outputs": [
    {
     "name": "stdout",
     "output_type": "stream",
     "text": [
      "x:   tensor([[0.6796, 0.1321, 0.6158],\n",
      "        [0.1924, 0.7493, 0.8432]])\n",
      "x2:   tensor([[0.2911, 0.7690, 0.8775],\n",
      "        [0.3024, 0.4375, 0.3505]])\n"
     ]
    }
   ],
   "source": [
    "x = torch.rand(2,3)\n",
    "x2 = torch.rand_like(x)\n",
    "print(\"x:  \", x)\n",
    "print(\"x2:  \", x2)"
   ]
  },
  {
   "cell_type": "markdown",
   "metadata": {},
   "source": [
    "randint 在[min,max) 范围内均匀生成整数样本"
   ]
  },
  {
   "cell_type": "code",
   "execution_count": 55,
   "metadata": {},
   "outputs": [
    {
     "data": {
      "text/plain": [
       "tensor([[4., 7., 6.],\n",
       "        [3., 6., 6.],\n",
       "        [6., 8., 5.]])"
      ]
     },
     "execution_count": 55,
     "metadata": {},
     "output_type": "execute_result"
    }
   ],
   "source": [
    "torch.randint(3,9,[3,3])"
   ]
  },
  {
   "cell_type": "markdown",
   "metadata": {},
   "source": [
    "生成标准正态分布"
   ]
  },
  {
   "cell_type": "code",
   "execution_count": 56,
   "metadata": {},
   "outputs": [
    {
     "data": {
      "text/plain": [
       "tensor([[ 0.6113,  1.4248],\n",
       "        [-1.1113, -1.8980],\n",
       "        [ 0.6580, -0.9104]])"
      ]
     },
     "execution_count": 56,
     "metadata": {},
     "output_type": "execute_result"
    }
   ],
   "source": [
    "torch.randn([3,2])"
   ]
  },
  {
   "cell_type": "markdown",
   "metadata": {},
   "source": [
    "自定义正态分布均值方差。 接受两个tensor作为变量分别描述生成tensor每一个元素的均值和方差\n",
    "\n",
    "**下面是一个方差逐步减小的例子。"
   ]
  },
  {
   "cell_type": "code",
   "execution_count": 63,
   "metadata": {},
   "outputs": [
    {
     "data": {
      "text/plain": [
       "tensor([-0.2211, -1.4520, -1.7881,  2.0585,  1.3889,  3.4515,  0.3287,  0.9760,\n",
       "         1.0589,  0.2532,  0.7253, -0.1283,  1.0584,  0.3566,  0.6167, -0.7527,\n",
       "        -0.9969,  0.2055, -0.0927, -0.1621])"
      ]
     },
     "execution_count": 63,
     "metadata": {},
     "output_type": "execute_result"
    }
   ],
   "source": [
    "torch.normal(mean=torch.full([20],0), std=torch.arange(2,0,-0.1))"
   ]
  },
  {
   "cell_type": "markdown",
   "metadata": {},
   "source": [
    "Shuffle  洗牌。 torch.randperm 输入一个 n 生成[0,n)  的洗牌. 可以作为index 抽取样本"
   ]
  },
  {
   "cell_type": "code",
   "execution_count": 71,
   "metadata": {},
   "outputs": [
    {
     "data": {
      "text/plain": [
       "tensor([0, 2, 1, 4, 3])"
      ]
     },
     "execution_count": 71,
     "metadata": {},
     "output_type": "execute_result"
    }
   ],
   "source": [
    "torch.randperm(5)"
   ]
  },
  {
   "cell_type": "markdown",
   "metadata": {},
   "source": [
    "# 3. Tensor 的计算"
   ]
  },
  {
   "cell_type": "markdown",
   "metadata": {},
   "source": [
    "## 3.1 矩阵相乘"
   ]
  },
  {
   "cell_type": "code",
   "execution_count": 77,
   "metadata": {},
   "outputs": [
    {
     "name": "stdout",
     "output_type": "stream",
     "text": [
      "tensor([[1., 2.],\n",
      "        [3., 4.],\n",
      "        [3., 4.]], dtype=torch.float32)\n",
      "tensor([[1., 2., 3.],\n",
      "        [3., 4., 5.]], dtype=torch.float32)\n"
     ]
    }
   ],
   "source": [
    "# 矩阵相乘\n",
    "A = torch.FloatTensor([[1,2],[3,4],[3,4]])\n",
    "B = torch.FloatTensor([[1,2,3],[3,4,5]])\n",
    "print(A)\n",
    "print(B)"
   ]
  },
  {
   "cell_type": "code",
   "execution_count": 81,
   "metadata": {},
   "outputs": [
    {
     "name": "stdout",
     "output_type": "stream",
     "text": [
      "tensor([[ 7., 10., 13.],\n",
      "        [15., 22., 29.],\n",
      "        [15., 22., 29.]], dtype=torch.float32)\n",
      "tensor([[ 7., 10., 13.],\n",
      "        [15., 22., 29.],\n",
      "        [15., 22., 29.]], dtype=torch.float32)\n"
     ]
    }
   ],
   "source": [
    "# 矩阵相乘，注意shape对其\n",
    "print(torch.mm(A,B))\n",
    "# 同上语法糖\n",
    "print(A@B)"
   ]
  },
  {
   "cell_type": "markdown",
   "metadata": {},
   "source": [
    "## 3.2激活函数"
   ]
  },
  {
   "cell_type": "code",
   "execution_count": 89,
   "metadata": {},
   "outputs": [],
   "source": [
    "import matplotlib.pyplot as plt\n",
    "from torch.autograd import Variable"
   ]
  },
  {
   "cell_type": "code",
   "execution_count": 125,
   "metadata": {},
   "outputs": [],
   "source": [
    "x = torch.linspace(-5,5,100)\n",
    "x_np = x.numpy()\n",
    "\n",
    "y_relu = torch.relu(x).numpy()\n",
    "y_softmax = torch.sigmoid(x).numpy()\n",
    "y_tanh = torch.tanh(x).numpy()"
   ]
  },
  {
   "cell_type": "code",
   "execution_count": 126,
   "metadata": {},
   "outputs": [
    {
     "data": {
      "text/plain": [
       "<matplotlib.legend.Legend at 0x11705ceb8>"
      ]
     },
     "execution_count": 126,
     "metadata": {},
     "output_type": "execute_result"
    },
    {
     "data": {
      "image/png": "[encoded data removed]",
      "text/plain": [
       "<Figure size 1440x432 with 3 Axes>"
      ]
     },
     "metadata": {},
     "output_type": "display_data"
    }
   ],
   "source": [
    "plt.figure(1, figsize=(20,6))\n",
    "\n",
    "plt.subplot(1,3,1)\n",
    "plt.plot(x_np, y_relu, '-r', label=\"relu\")\n",
    "plt.ylim((-1,5))\n",
    "plt.legend(loc=\"best\")\n",
    "\n",
    "plt.subplot(1,3,2)\n",
    "plt.plot(x_np, y_softmax, '-k', label=\"softmax\")\n",
    "plt.legend(loc=\"best\")\n",
    "\n",
    "plt.subplot(1,3,3)\n",
    "plt.plot(x_np, y_tanh, '-b', label=\"tanh\")\n",
    "plt.legend(loc=\"best\")"
   ]
  },
  {
   "cell_type": "code",
   "execution_count": null,
   "metadata": {},
   "outputs": [],
   "source": []
  }
 ],
 "metadata": {
  "kernelspec": {
   "display_name": "Python 3",
   "language": "python",
   "name": "python3"
  },
  "language_info": {
   "codemirror_mode": {
    "name": "ipython",
    "version": 3
   },
   "file_extension": ".py",
   "mimetype": "text/x-python",
   "name": "python",
   "nbconvert_exporter": "python",
   "pygments_lexer": "ipython3",
   "version": "3.6.8"
  }
 },
 "nbformat": 4,
 "nbformat_minor": 2
}
